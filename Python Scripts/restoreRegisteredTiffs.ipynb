{
 "cells": [
  {
   "cell_type": "code",
   "execution_count": null,
   "metadata": {},
   "outputs": [],
   "source": [
    "from suite2p.registration import register\n",
    "import suite2p\n",
    "import numpy as np"
   ]
  },
  {
   "cell_type": "code",
   "execution_count": null,
   "metadata": {},
   "outputs": [],
   "source": [
    "s2pFolder = r\"W:\\Data\\Mask_ND\\ET\\2P\\ET402\\091823\\1-1-Masked_FRA\\091823_procPS2P\\plane0\"\n",
    "opsFile = s2pFolder + r\"\\ops.npy\"\n",
    "ops = np.load(opsFile,allow_pickle=True).item()"
   ]
  },
  {
   "cell_type": "code",
   "execution_count": null,
   "metadata": {},
   "outputs": [],
   "source": [
    "# ops[\"reg_tif\"]\n",
    "list(ops.keys())"
   ]
  },
  {
   "cell_type": "code",
   "execution_count": null,
   "metadata": {},
   "outputs": [],
   "source": [
    "# dir(register.register_frames)\n",
    "r = register.register_binary(ops)"
   ]
  },
  {
   "cell_type": "code",
   "execution_count": null,
   "metadata": {},
   "outputs": [],
   "source": [
    "dir(suite2p.io.generate_tiff_filename)\n"
   ]
  },
  {
   "cell_type": "code",
   "execution_count": null,
   "metadata": {},
   "outputs": [],
   "source": [
    "suite2p.io.generate_tiff_filename(False,r\"D:\\S2P Fast Disk\\suite2p\\plane0\\reg\",1,0,r\"D:\\S2P Fast Disk\\suite2p\\plane0\\reg\")"
   ]
  }
 ],
 "metadata": {
  "kernelspec": {
   "display_name": "suite2p",
   "language": "python",
   "name": "python3"
  },
  "language_info": {
   "codemirror_mode": {
    "name": "ipython",
    "version": 3
   },
   "file_extension": ".py",
   "mimetype": "text/x-python",
   "name": "python",
   "nbconvert_exporter": "python",
   "pygments_lexer": "ipython3",
   "version": "3.8.12"
  }
 },
 "nbformat": 4,
 "nbformat_minor": 2
}
