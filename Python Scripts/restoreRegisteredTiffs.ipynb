{
 "cells": [
  {
   "cell_type": "code",
   "execution_count": 16,
   "metadata": {},
   "outputs": [],
   "source": [
    "from suite2p.registration import register\n",
    "import suite2p\n",
    "import numpy as np"
   ]
  },
  {
   "cell_type": "code",
   "execution_count": 2,
   "metadata": {},
   "outputs": [],
   "source": [
    "s2pFolder = r\"W:\\Data\\Mask_ND\\SLM\\2P\\WT556\\051724\\1-1-SLM_Stim\\051724_procPS2P\\plane0\"\n",
    "opsFile = s2pFolder + r\"\\ops.npy\"\n",
    "ops = np.load(opsFile,allow_pickle=True).item()"
   ]
  },
  {
   "cell_type": "code",
   "execution_count": 66,
   "metadata": {},
   "outputs": [
    {
     "data": {
      "text/plain": [
       "['suite2p_version',\n",
       " 'look_one_level_down',\n",
       " 'fast_disk',\n",
       " 'delete_bin',\n",
       " 'mesoscan',\n",
       " 'bruker',\n",
       " 'bruker_bidirectional',\n",
       " 'h5py',\n",
       " 'h5py_key',\n",
       " 'nwb_file',\n",
       " 'nwb_driver',\n",
       " 'nwb_series',\n",
       " 'save_path0',\n",
       " 'save_folder',\n",
       " 'subfolders',\n",
       " 'move_bin',\n",
       " 'nplanes',\n",
       " 'nchannels',\n",
       " 'functional_chan',\n",
       " 'tau',\n",
       " 'fs',\n",
       " 'force_sktiff',\n",
       " 'frames_include',\n",
       " 'multiplane_parallel',\n",
       " 'ignore_flyback',\n",
       " 'preclassify',\n",
       " 'save_mat',\n",
       " 'save_NWB',\n",
       " 'combined',\n",
       " 'aspect',\n",
       " 'do_bidiphase',\n",
       " 'bidiphase',\n",
       " 'bidi_corrected',\n",
       " 'do_registration',\n",
       " 'two_step_registration',\n",
       " 'keep_movie_raw',\n",
       " 'nimg_init',\n",
       " 'batch_size',\n",
       " 'maxregshift',\n",
       " 'align_by_chan',\n",
       " 'reg_tif',\n",
       " 'reg_tif_chan2',\n",
       " 'subpixel',\n",
       " 'smooth_sigma_time',\n",
       " 'smooth_sigma',\n",
       " 'th_badframes',\n",
       " 'norm_frames',\n",
       " 'force_refImg',\n",
       " 'pad_fft',\n",
       " 'nonrigid',\n",
       " 'block_size',\n",
       " 'snr_thresh',\n",
       " 'maxregshiftNR',\n",
       " '1Preg',\n",
       " 'spatial_hp',\n",
       " 'spatial_hp_reg',\n",
       " 'spatial_hp_detect',\n",
       " 'pre_smooth',\n",
       " 'spatial_taper',\n",
       " 'roidetect',\n",
       " 'spikedetect',\n",
       " 'anatomical_only',\n",
       " 'cellprob_threshold',\n",
       " 'flow_threshold',\n",
       " 'sparse_mode',\n",
       " 'diameter',\n",
       " 'spatial_scale',\n",
       " 'connected',\n",
       " 'nbinned',\n",
       " 'max_iterations',\n",
       " 'threshold_scaling',\n",
       " 'max_overlap',\n",
       " 'high_pass',\n",
       " 'denoise',\n",
       " 'soma_crop',\n",
       " 'neuropil_extract',\n",
       " 'inner_neuropil_radius',\n",
       " 'min_neuropil_pixels',\n",
       " 'lam_percentile',\n",
       " 'allow_overlap',\n",
       " 'use_builtin_classifier',\n",
       " 'classifier_path',\n",
       " 'chan2_thres',\n",
       " 'baseline',\n",
       " 'win_baseline',\n",
       " 'sig_baseline',\n",
       " 'prctile_baseline',\n",
       " 'neucoeff',\n",
       " 'input_format',\n",
       " 'data_path',\n",
       " 'save_path',\n",
       " 'ops_path',\n",
       " 'reg_file',\n",
       " 'first_tiffs',\n",
       " 'frames_per_folder',\n",
       " 'filelist',\n",
       " 'nframes',\n",
       " 'frames_per_file',\n",
       " 'meanImg',\n",
       " 'Ly',\n",
       " 'Lx',\n",
       " 'yrange',\n",
       " 'xrange',\n",
       " 'date_proc',\n",
       " 'refImg',\n",
       " 'rmin',\n",
       " 'rmax',\n",
       " 'yblock',\n",
       " 'xblock',\n",
       " 'nblocks',\n",
       " 'NRsm',\n",
       " 'yoff',\n",
       " 'xoff',\n",
       " 'corrXY',\n",
       " 'yoff1',\n",
       " 'xoff1',\n",
       " 'corrXY1',\n",
       " 'badframes',\n",
       " 'spatscale_pix',\n",
       " 'meanImgE',\n",
       " 'tPC',\n",
       " 'regPC',\n",
       " 'regDX',\n",
       " 'max_proj',\n",
       " 'Lyc',\n",
       " 'Lxc',\n",
       " 'Vcorr',\n",
       " 'sdmov',\n",
       " 'timing']"
      ]
     },
     "execution_count": 66,
     "metadata": {},
     "output_type": "execute_result"
    }
   ],
   "source": [
    "ops[\"reg_tif\"]\n",
    "list(ops.keys())"
   ]
  },
  {
   "cell_type": "code",
   "execution_count": 12,
   "metadata": {},
   "outputs": [
    {
     "name": "stdout",
     "output_type": "stream",
     "text": [
      "registering 25000 frames\n",
      "Reference frame, 11.52 sec.\n",
      "Registered 2000/25000 in 86.88s\n",
      "Registered 4000/25000 in 168.64s\n",
      "Registered 6000/25000 in 249.04s\n",
      "Registered 8000/25000 in 331.37s\n",
      "Registered 10000/25000 in 410.17s\n",
      "Registered 12000/25000 in 488.31s\n",
      "Registered 14000/25000 in 570.89s\n",
      "Registered 16000/25000 in 652.65s\n",
      "Registered 18000/25000 in 733.89s\n",
      "Registered 20000/25000 in 813.25s\n",
      "Registered 22000/25000 in 893.51s\n",
      "Registered 24000/25000 in 975.34s\n"
     ]
    },
    {
     "name": "stderr",
     "output_type": "stream",
     "text": [
      "c:\\Users\\Williamson_Lab\\anaconda3\\envs\\suite2p\\lib\\site-packages\\suite2p\\registration\\register.py:45: RuntimeWarning: invalid value encountered in true_divide\n",
      "  dxy = dxy / dxy.mean()\n"
     ]
    },
    {
     "name": "stdout",
     "output_type": "stream",
     "text": [
      "added enhanced mean image\n"
     ]
    }
   ],
   "source": [
    "# dir(register.register_frames)\n",
    "r = register.register_binary(ops)"
   ]
  },
  {
   "cell_type": "code",
   "execution_count": 51,
   "metadata": {},
   "outputs": [
    {
     "data": {
      "text/plain": [
       "['__annotations__',\n",
       " '__call__',\n",
       " '__class__',\n",
       " '__closure__',\n",
       " '__code__',\n",
       " '__defaults__',\n",
       " '__delattr__',\n",
       " '__dict__',\n",
       " '__dir__',\n",
       " '__doc__',\n",
       " '__eq__',\n",
       " '__format__',\n",
       " '__ge__',\n",
       " '__get__',\n",
       " '__getattribute__',\n",
       " '__globals__',\n",
       " '__gt__',\n",
       " '__hash__',\n",
       " '__init__',\n",
       " '__init_subclass__',\n",
       " '__kwdefaults__',\n",
       " '__le__',\n",
       " '__lt__',\n",
       " '__module__',\n",
       " '__name__',\n",
       " '__ne__',\n",
       " '__new__',\n",
       " '__qualname__',\n",
       " '__reduce__',\n",
       " '__reduce_ex__',\n",
       " '__repr__',\n",
       " '__setattr__',\n",
       " '__sizeof__',\n",
       " '__str__',\n",
       " '__subclasshook__']"
      ]
     },
     "execution_count": 51,
     "metadata": {},
     "output_type": "execute_result"
    }
   ],
   "source": [
    "dir(suite2p.io.generate_tiff_filename)\n"
   ]
  },
  {
   "cell_type": "code",
   "execution_count": 57,
   "metadata": {},
   "outputs": [
    {
     "ename": "TypeError",
     "evalue": "expected str, bytes or os.PathLike object, not int",
     "output_type": "error",
     "traceback": [
      "\u001b[1;31m---------------------------------------------------------------------------\u001b[0m",
      "\u001b[1;31mTypeError\u001b[0m                                 Traceback (most recent call last)",
      "Cell \u001b[1;32mIn[57], line 1\u001b[0m\n\u001b[1;32m----> 1\u001b[0m \u001b[43msuite2p\u001b[49m\u001b[38;5;241;43m.\u001b[39;49m\u001b[43mio\u001b[49m\u001b[38;5;241;43m.\u001b[39;49m\u001b[43mgenerate_tiff_filename\u001b[49m\u001b[43m(\u001b[49m\u001b[38;5;28;43;01mFalse\u001b[39;49;00m\u001b[43m,\u001b[49m\u001b[38;5;124;43mr\u001b[39;49m\u001b[38;5;124;43m\"\u001b[39;49m\u001b[38;5;124;43mD:\u001b[39;49m\u001b[38;5;124;43m\\\u001b[39;49m\u001b[38;5;124;43mS2P Fast Disk\u001b[39;49m\u001b[38;5;124;43m\\\u001b[39;49m\u001b[38;5;124;43msuite2p\u001b[39;49m\u001b[38;5;124;43m\\\u001b[39;49m\u001b[38;5;124;43mplane0\u001b[39;49m\u001b[38;5;124;43m\\\u001b[39;49m\u001b[38;5;124;43mreg\u001b[39;49m\u001b[38;5;124;43m\"\u001b[39;49m\u001b[43m,\u001b[49m\u001b[38;5;241;43m1\u001b[39;49m\u001b[43m,\u001b[49m\u001b[38;5;241;43m0\u001b[39;49m\u001b[43m,\u001b[49m\u001b[38;5;124;43mr\u001b[39;49m\u001b[38;5;124;43m\"\u001b[39;49m\u001b[38;5;124;43mD:\u001b[39;49m\u001b[38;5;124;43m\\\u001b[39;49m\u001b[38;5;124;43mS2P Fast Disk\u001b[39;49m\u001b[38;5;124;43m\\\u001b[39;49m\u001b[38;5;124;43msuite2p\u001b[39;49m\u001b[38;5;124;43m\\\u001b[39;49m\u001b[38;5;124;43mplane0\u001b[39;49m\u001b[38;5;124;43m\\\u001b[39;49m\u001b[38;5;124;43mreg\u001b[39;49m\u001b[38;5;124;43m\"\u001b[39;49m\u001b[43m)\u001b[49m\n",
      "File \u001b[1;32mc:\\Users\\Williamson_Lab\\anaconda3\\envs\\suite2p\\lib\\site-packages\\suite2p\\io\\tiff.py:43\u001b[0m, in \u001b[0;36mgenerate_tiff_filename\u001b[1;34m(functional_chan, align_by_chan, save_path, k, ichan)\u001b[0m\n\u001b[0;32m     41\u001b[0m         wchan \u001b[38;5;241m=\u001b[39m \u001b[38;5;241m0\u001b[39m\n\u001b[0;32m     42\u001b[0m     \u001b[38;5;28;01melse\u001b[39;00m:\n\u001b[1;32m---> 43\u001b[0m         tifroot \u001b[38;5;241m=\u001b[39m \u001b[43mos\u001b[49m\u001b[38;5;241;43m.\u001b[39;49m\u001b[43mpath\u001b[49m\u001b[38;5;241;43m.\u001b[39;49m\u001b[43mjoin\u001b[49m\u001b[43m(\u001b[49m\u001b[43msave_path\u001b[49m\u001b[43m,\u001b[49m\u001b[43m \u001b[49m\u001b[38;5;124;43m'\u001b[39;49m\u001b[38;5;124;43mreg_tif_chan2\u001b[39;49m\u001b[38;5;124;43m'\u001b[39;49m\u001b[43m)\u001b[49m\n\u001b[0;32m     44\u001b[0m         wchan \u001b[38;5;241m=\u001b[39m \u001b[38;5;241m1\u001b[39m\n\u001b[0;32m     45\u001b[0m \u001b[38;5;28;01melse\u001b[39;00m:\n",
      "File \u001b[1;32mc:\\Users\\Williamson_Lab\\anaconda3\\envs\\suite2p\\lib\\ntpath.py:78\u001b[0m, in \u001b[0;36mjoin\u001b[1;34m(path, *paths)\u001b[0m\n\u001b[0;32m     77\u001b[0m \u001b[38;5;28;01mdef\u001b[39;00m \u001b[38;5;21mjoin\u001b[39m(path, \u001b[38;5;241m*\u001b[39mpaths):\n\u001b[1;32m---> 78\u001b[0m     path \u001b[38;5;241m=\u001b[39m \u001b[43mos\u001b[49m\u001b[38;5;241;43m.\u001b[39;49m\u001b[43mfspath\u001b[49m\u001b[43m(\u001b[49m\u001b[43mpath\u001b[49m\u001b[43m)\u001b[49m\n\u001b[0;32m     79\u001b[0m     \u001b[38;5;28;01mif\u001b[39;00m \u001b[38;5;28misinstance\u001b[39m(path, \u001b[38;5;28mbytes\u001b[39m):\n\u001b[0;32m     80\u001b[0m         sep \u001b[38;5;241m=\u001b[39m \u001b[38;5;124mb\u001b[39m\u001b[38;5;124m'\u001b[39m\u001b[38;5;130;01m\\\\\u001b[39;00m\u001b[38;5;124m'\u001b[39m\n",
      "\u001b[1;31mTypeError\u001b[0m: expected str, bytes or os.PathLike object, not int"
     ]
    }
   ],
   "source": [
    "suite2p.io.generate_tiff_filename(False,r\"D:\\S2P Fast Disk\\suite2p\\plane0\\reg\",1,0,r\"D:\\S2P Fast Disk\\suite2p\\plane0\\reg\")"
   ]
  }
 ],
 "metadata": {
  "kernelspec": {
   "display_name": "suite2p",
   "language": "python",
   "name": "python3"
  },
  "language_info": {
   "codemirror_mode": {
    "name": "ipython",
    "version": 3
   },
   "file_extension": ".py",
   "mimetype": "text/x-python",
   "name": "python",
   "nbconvert_exporter": "python",
   "pygments_lexer": "ipython3",
   "version": "3.8.12"
  }
 },
 "nbformat": 4,
 "nbformat_minor": 2
}
