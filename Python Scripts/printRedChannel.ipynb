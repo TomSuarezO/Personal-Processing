{
 "cells": [
  {
   "cell_type": "code",
   "execution_count": 7,
   "metadata": {},
   "outputs": [],
   "source": [
    "# Import libraries\n",
    "\n",
    "import os\n",
    "import numpy as np\n",
    "import matplotlib.pyplot as plt"
   ]
  },
  {
   "cell_type": "code",
   "execution_count": 8,
   "metadata": {},
   "outputs": [],
   "source": [
    "# Find all ops files that are contained in any folder with the word \"plane\" for plane0, plane1, etc\n",
    "\n",
    "baseDir = r'W:\\Data\\Mask_ND\\IT_ET\\2P\\Tlx099\\032023\\1-1-Masked_FRA'\n",
    "opsPaths = []\n",
    "\n",
    "for root, dirs, files in os.walk(baseDir):\n",
    "    for name in files:\n",
    "        if name.endswith((\"ops.npy\")):\n",
    "            pInd = root.find('plane')\n",
    "            currentPlane = pInd+5\n",
    "            if pInd > 0:\n",
    "                # opsPaths[currentPlane] = root\n",
    "                opsPaths.append(root + '\\\\' + 'ops.npy')"
   ]
  },
  {
   "cell_type": "code",
   "execution_count": 9,
   "metadata": {},
   "outputs": [
    {
     "data": {
      "text/plain": [
       "<Figure size 640x480 with 0 Axes>"
      ]
     },
     "metadata": {},
     "output_type": "display_data"
    }
   ],
   "source": [
    "# Plot each mean image for channel 2 in a subplot grid\n",
    "\n",
    "fig = plt.figure(facecolor='none')\n",
    "for ii in range(len(opsPaths)):\n",
    "    currentOps = np.load(opsPaths[ii],allow_pickle=True)\n",
    "    ops = currentOps.tolist()\n",
    "    plt.subplot(2,2,ii+1)\n",
    "    plt.imshow(ops['meanImg_chan2'],'hot')\n",
    "    plt.tick_params(left = False, right = False , labelleft = False , labelbottom = False, bottom = False)"
   ]
  },
  {
   "cell_type": "code",
   "execution_count": 10,
   "metadata": {},
   "outputs": [
    {
     "data": {
      "text/plain": [
       "<Figure size 640x480 with 0 Axes>"
      ]
     },
     "metadata": {},
     "output_type": "display_data"
    }
   ],
   "source": [
    "# Save figure grid\n",
    "\n",
    "fname = baseDir + '\\\\' + 'redChannelGrid.png'\n",
    "plt.gcf()\n",
    "fig.savefig(fname,dpi=600)"
   ]
  }
 ],
 "metadata": {
  "kernelspec": {
   "display_name": "suite2p",
   "language": "python",
   "name": "python3"
  },
  "language_info": {
   "codemirror_mode": {
    "name": "ipython",
    "version": 3
   },
   "file_extension": ".py",
   "mimetype": "text/x-python",
   "name": "python",
   "nbconvert_exporter": "python",
   "pygments_lexer": "ipython3",
   "version": "3.8.12"
  },
  "orig_nbformat": 4
 },
 "nbformat": 4,
 "nbformat_minor": 2
}
