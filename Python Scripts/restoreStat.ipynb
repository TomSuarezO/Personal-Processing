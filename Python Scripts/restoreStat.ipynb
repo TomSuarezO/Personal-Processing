{
 "cells": [
  {
   "cell_type": "code",
   "execution_count": 2,
   "metadata": {},
   "outputs": [],
   "source": [
    "# Import libraries\n",
    "\n",
    "import os\n",
    "import numpy as np\n",
    "import matplotlib.pyplot as plt"
   ]
  },
  {
   "cell_type": "code",
   "execution_count": 22,
   "metadata": {},
   "outputs": [],
   "source": [
    "filepath    = r'W:\\Data\\Mask_ND\\IT_ET\\2P\\Tlx099\\032223\\1-1-FRA\\032223_procPS2P\\combined'\n",
    "stat        = np.load(filepath+r'\\stat.npy',allow_pickle=True)\n",
    "iscell      = np.load(filepath+r'\\iscell.npy',allow_pickle=True)\n",
    "np.save(filepath+r'\\iscell.npy',iscell,allow_pickle=True)"
   ]
  },
  {
   "cell_type": "code",
   "execution_count": 23,
   "metadata": {},
   "outputs": [
    {
     "name": "stdout",
     "output_type": "stream",
     "text": [
      "(1173,)\n"
     ]
    }
   ],
   "source": [
    "# file    = open(filepath+r'\\new_iscell.csv')\n",
    "# for i in file:\n",
    "#     newList[i] = \n",
    "#     print(i)\n",
    "\n",
    "arr = np.loadtxt(filepath+r'\\new_iscell.csv',delimiter=\",\", dtype=float)\n",
    "print(arr.shape)\n",
    "iscellOld   = iscell"
   ]
  },
  {
   "cell_type": "code",
   "execution_count": 26,
   "metadata": {},
   "outputs": [
    {
     "name": "stdout",
     "output_type": "stream",
     "text": [
      "871.0\n"
     ]
    }
   ],
   "source": [
    "iscell[:,0] = arr\n",
    "print(np.sum(iscell[:,0]))\n",
    "np.save(filepath+r'\\iscell.npy', iscell , allow_pickle=True)"
   ]
  },
  {
   "cell_type": "code",
   "execution_count": 19,
   "metadata": {},
   "outputs": [
    {
     "name": "stdout",
     "output_type": "stream",
     "text": [
      "(1173, 2)\n"
     ]
    }
   ],
   "source": [
    "# print(iscell[0,0])\n",
    "# iscell2[0,0] = 1\n",
    "# np.nonzero(iscell2[:,0])\n",
    "print(iscell.shape)"
   ]
  }
 ],
 "metadata": {
  "kernelspec": {
   "display_name": "suite2p",
   "language": "python",
   "name": "python3"
  },
  "language_info": {
   "codemirror_mode": {
    "name": "ipython",
    "version": 3
   },
   "file_extension": ".py",
   "mimetype": "text/x-python",
   "name": "python",
   "nbconvert_exporter": "python",
   "pygments_lexer": "ipython3",
   "version": "3.8.12"
  },
  "orig_nbformat": 4
 },
 "nbformat": 4,
 "nbformat_minor": 2
}
